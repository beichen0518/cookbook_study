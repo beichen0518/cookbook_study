{
 "cells": [
  {
   "cell_type": "markdown",
   "metadata": {},
   "source": [
    "> **注意** 此篇内容为在《python cookbook》上的学习内容"
   ]
  },
  {
   "cell_type": "markdown",
   "metadata": {},
   "source": [
    "# Python"
   ]
  },
  {
   "cell_type": "markdown",
   "metadata": {},
   "source": [
    "## 解压序列赋值给多个变量\n",
    "- 任何的序列（或者是可迭代对象）可以通过一个简单的赋值语句解压并赋值给多个变量。 \n",
    "- 唯一的前提就是变量的数量必须跟序列元素的数量是一样的。"
   ]
  },
  {
   "cell_type": "code",
   "execution_count": 1,
   "metadata": {},
   "outputs": [
    {
     "name": "stdout",
     "output_type": "stream",
     "text": [
      "h\n",
      "e\n",
      "l\n",
      "l\n",
      "o\n"
     ]
    }
   ],
   "source": [
    "a, b, c, d, e = 'hello'\n",
    "print(a)\n",
    "print(b)\n",
    "print(c)\n",
    "print(d)\n",
    "print(e)"
   ]
  },
  {
   "cell_type": "code",
   "execution_count": 2,
   "metadata": {},
   "outputs": [
    {
     "name": "stdout",
     "output_type": "stream",
     "text": [
      "1\n",
      "2\n",
      "3\n",
      "4\n",
      "5\n"
     ]
    }
   ],
   "source": [
    "a, b, c, d, e = [1, 2, 3, 4, 5]\n",
    "print(a)\n",
    "print(b)\n",
    "print(c)\n",
    "print(d)\n",
    "print(e)"
   ]
  },
  {
   "cell_type": "markdown",
   "metadata": {},
   "source": [
    "### 星号表达式\n",
    "- 可以接收任意个序列元素"
   ]
  },
  {
   "cell_type": "code",
   "execution_count": 3,
   "metadata": {},
   "outputs": [
    {
     "name": "stdout",
     "output_type": "stream",
     "text": [
      "a\n",
      "['a', 'b', 'b', 'b', 'b', 'b', 'b', 'd', 's', 's', 's', 's', 'b', 'b']\n",
      "p\n"
     ]
    }
   ],
   "source": [
    "a, *b, c ='aabbbbbbdssssbbp'\n",
    "print(a)\n",
    "print(b)\n",
    "print(c)"
   ]
  },
  {
   "cell_type": "code",
   "execution_count": 4,
   "metadata": {},
   "outputs": [
    {
     "name": "stdout",
     "output_type": "stream",
     "text": [
      "a\n",
      "['a', 'b', 'b', 'b', 'b', 'b', 'b', 'd', 's', 's', 's', 's']\n",
      "b\n",
      "b\n",
      "p\n"
     ]
    }
   ],
   "source": [
    "a, *b, c, d, e ='aabbbbbbdssssbbp'\n",
    "print(a)\n",
    "print(b)\n",
    "print(c)\n",
    "print(d)\n",
    "print(e)"
   ]
  },
  {
   "cell_type": "code",
   "execution_count": 6,
   "metadata": {},
   "outputs": [
    {
     "name": "stdout",
     "output_type": "stream",
     "text": [
      "aa\n",
      "bb\n",
      "cc\n"
     ]
    }
   ],
   "source": [
    "dict1 = {'aa' : 1, 'bb': 2, 'cc' : 3}\n",
    "a, b, c = dict1\n",
    "print(a)\n",
    "print(b)\n",
    "print(c)"
   ]
  },
  {
   "cell_type": "code",
   "execution_count": 8,
   "metadata": {},
   "outputs": [
    {
     "name": "stdout",
     "output_type": "stream",
     "text": [
      "1\n",
      "[2, 3]\n",
      "['q', 'w', 'i']\n",
      "f\n"
     ]
    }
   ],
   "source": [
    "tuple1 = (1, 2, 3, ('q', 'w', 'i', 'f'))\n",
    "a, *b, (*c, d) = tuple1\n",
    "print(a)\n",
    "print(b)\n",
    "print(c)\n",
    "print(d)"
   ]
  },
  {
   "cell_type": "markdown",
   "metadata": {},
   "source": [
    "### 保留最后几个元素\n",
    "- 需要导入collections ， 使用 deque(maxlen=N) 构造函数会新建一个固定大小的队列。当新的元素加入并且这个队列已满的时候， 最老的元素会自动被移除掉。\n",
    "- yield 生成器，在函数中类似于return 但每次访问后会继续执行后面的语句"
   ]
  },
  {
   "cell_type": "code",
   "execution_count": 9,
   "metadata": {},
   "outputs": [
    {
     "name": "stdout",
     "output_type": "stream",
     "text": [
      "0\n",
      "1\n",
      "2\n",
      "3\n",
      "4\n"
     ]
    }
   ],
   "source": [
    "def test_y(a):\n",
    "    for x in range(a):\n",
    "        yield x\n",
    "\n",
    "        \n",
    "for con in test_y(5):\n",
    "    print(con)\n",
    "    "
   ]
  },
  {
   "cell_type": "markdown",
   "metadata": {},
   "source": [
    "### 查找最大或最小的N个元素\n",
    "- 需要导入headq\n",
    "- nlargest(n, ob, key) \n",
    "- nsmallest(n, ob, key)\n",
    "- n 表示 查找的数量， ob表示被查找的对象， key表示查找依据"
   ]
  },
  {
   "cell_type": "code",
   "execution_count": 15,
   "metadata": {},
   "outputs": [
    {
     "name": "stdout",
     "output_type": "stream",
     "text": [
      "[{'name': 'BCD', 'shares': 51, 'price': 544.22}, {'name': 'FGH', 'shares': 76, 'price': 116.65}, {'name': 'ABC', 'shares': 101, 'price': 92.1}]\n"
     ]
    }
   ],
   "source": [
    "import heapq\n",
    "p = [\n",
    "    {'name': 'ABC', 'shares': 101, 'price': 92.1},\n",
    "    {'name': 'BCD', 'shares': 51, 'price': 544.22},\n",
    "    {'name': 'CDE', 'shares': 201, 'price': 22.09},\n",
    "    {'name': 'DEF', 'shares': 36, 'price': 32.75},\n",
    "    {'name': 'EFG', 'shares': 46, 'price': 17.35},\n",
    "    {'name': 'FGH', 'shares': 76, 'price': 116.65}\n",
    "]\n",
    "mx = heapq.nlargest(3, p, key=lambda s : s['price'])\n",
    "print(mx)"
   ]
  },
  {
   "cell_type": "code",
   "execution_count": 3,
   "metadata": {},
   "outputs": [
    {
     "name": "stdout",
     "output_type": "stream",
     "text": [
      "Item('foo')\n",
      "Item('foo')\n"
     ]
    }
   ],
   "source": [
    "class Item(object):\n",
    "    \n",
    "    def __init__(self, name):\n",
    "        self.name = name\n",
    "        \n",
    "    def __repr__(self):\n",
    "        return 'Item({!r})'.format(self.name)\n",
    "    \n",
    "a = Item('foo')\n",
    "b = a\n",
    "print(a)\n",
    "print(b)"
   ]
  },
  {
   "cell_type": "code",
   "execution_count": 3,
   "metadata": {},
   "outputs": [
    {
     "name": "stdout",
     "output_type": "stream",
     "text": [
      "('ab',)\n",
      "('a', 'b')\n"
     ]
    }
   ],
   "source": [
    "def a(*arg):\n",
    "    print(arg)\n",
    "    \n",
    "a('ab')\n",
    "a(*['a', 'b'])\n",
    "        \n"
   ]
  },
  {
   "cell_type": "markdown",
   "metadata": {},
   "source": [
    "### 实现一个优先级队列\n",
    "- 队列包含了一个 (-priority, index, item) 的元组。 优先级为负数的目的是使得元素按照优先级从高到低排序。 这个跟普通的按优先级从低到高排序的堆排序恰巧相反"
   ]
  },
  {
   "cell_type": "code",
   "execution_count": 7,
   "metadata": {},
   "outputs": [
    {
     "name": "stdout",
     "output_type": "stream",
     "text": [
      "[(-5, 1, Item('bar')), (-1, 0, Item('foo')), (-4, 2, Item('spam')), (-1, 3, Item('grok'))]\n",
      "Item('bar')\n"
     ]
    }
   ],
   "source": [
    "import heapq\n",
    "\n",
    "class PriorityQueue:\n",
    "    def __init__(self):\n",
    "        self._queue = []\n",
    "        self._index = 0\n",
    "        \n",
    "    @property\n",
    "    def queue(self):\n",
    "        return self._queue\n",
    "\n",
    "    def push(self, item, priority):\n",
    "        # priority是优先级，item为要添加的元素\n",
    "        heapq.heappush(self._queue, (-priority, self._index, item))\n",
    "        self._index += 1\n",
    "\n",
    "    def pop(self):\n",
    "        return heapq.heappop(self._queue)[-1]\n",
    "\n",
    "\n",
    "class Item:\n",
    "    def __init__(self, name):\n",
    "        self.name = name\n",
    "    def __repr__(self):\n",
    "        return 'Item({!r})'.format(self.name)\n",
    "\n",
    "q = PriorityQueue()\n",
    "q.push(Item('foo'), 1)\n",
    "q.push(Item('bar'), 5)\n",
    "q.push(Item('spam'), 4)\n",
    "q.push(Item('grok'), 1)\n",
    "print(q.queue)\n",
    "print(q.pop())"
   ]
  },
  {
   "cell_type": "markdown",
   "metadata": {},
   "source": [
    "### 实现字典中一个键对应多个值\n",
    "- 可以使用collections中的defaultdict函数"
   ]
  },
  {
   "cell_type": "code",
   "execution_count": 8,
   "metadata": {},
   "outputs": [
    {
     "name": "stdout",
     "output_type": "stream",
     "text": [
      "defaultdict(<class 'list'>, {'num': [1, 2], 'char': ['a', 'b']})\n"
     ]
    }
   ],
   "source": [
    "from collections import defaultdict\n",
    "my_dict = defaultdict(list)\n",
    "my_dict['num'].append(1)\n",
    "my_dict['num'].append(2)\n",
    "my_dict['char'].append('a')\n",
    "my_dict['char'].append('b')\n",
    "print(my_dict)"
   ]
  },
  {
   "cell_type": "markdown",
   "metadata": {},
   "source": [
    "### 字典排序\n",
    "- "
   ]
  }
 ],
 "metadata": {
  "kernelspec": {
   "display_name": "Python 3",
   "language": "python",
   "name": "python3"
  },
  "language_info": {
   "codemirror_mode": {
    "name": "ipython",
    "version": 3
   },
   "file_extension": ".py",
   "mimetype": "text/x-python",
   "name": "python",
   "nbconvert_exporter": "python",
   "pygments_lexer": "ipython3",
   "version": "3.6.4"
  }
 },
 "nbformat": 4,
 "nbformat_minor": 2
}
